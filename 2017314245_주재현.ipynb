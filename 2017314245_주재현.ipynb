{
  "nbformat": 4,
  "nbformat_minor": 0,
  "metadata": {
    "colab": {
      "provenance": [],
      "gpuType": "T4"
    },
    "kernelspec": {
      "name": "python3",
      "display_name": "Python 3"
    },
    "language_info": {
      "name": "python"
    }
  },
  "cells": [
    {
      "cell_type": "code",
      "source": [
        "def isHappy(n):\n",
        "    def get_next(num):\n",
        "        total_sum = 0\n",
        "        while num > 0:\n",
        "            num, digit = divmod(num, 10)\n",
        "            total_sum += digit ** 2\n",
        "        return total_sum\n",
        "\n",
        "    tortoise = n\n",
        "    hare = get_next(n)\n",
        "\n",
        "    while tortoise != hare and hare != 1:\n",
        "        tortoise = get_next(tortoise)\n",
        "        hare = get_next(get_next(hare))\n",
        "\n",
        "    return hare == 1\n",
        "\n",
        "# Testcases\n",
        "print(isHappy(19))  # True\n",
        "print(isHappy(2))   # False\n",
        "print(isHappy(3))   # False\n",
        "print(isHappy(1))   # True\n",
        "print(isHappy(100000))  # True\n",
        "print(isHappy(111111))  # False\n",
        "\n"
      ],
      "metadata": {
        "colab": {
          "base_uri": "https://localhost:8080/"
        },
        "id": "WiLKIk2516f7",
        "outputId": "21407065-665a-454c-9194-102255e85b2d"
      },
      "execution_count": 6,
      "outputs": [
        {
          "output_type": "stream",
          "name": "stdout",
          "text": [
            "True\n",
            "False\n",
            "False\n",
            "True\n",
            "True\n",
            "False\n"
          ]
        }
      ]
    },
    {
      "cell_type": "code",
      "source": [],
      "metadata": {
        "id": "fT0UcUBw65jp"
      },
      "execution_count": null,
      "outputs": []
    },
    {
      "cell_type": "code",
      "source": [],
      "metadata": {
        "id": "IwIVcQ4717r-"
      },
      "execution_count": null,
      "outputs": []
    }
  ]
}